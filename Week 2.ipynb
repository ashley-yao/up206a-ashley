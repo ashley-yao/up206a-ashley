{
 "cells": [
  {
   "cell_type": "markdown",
   "metadata": {},
   "source": [
    "# Individual Assignment: Data Exploration"
   ]
  },
  {
   "cell_type": "markdown",
   "metadata": {},
   "source": [
    "In this assignment, I will import data and conduct data exploration on the LA Times data set LA County Neighborhoods (current). I will review and comment upon commands presented in the previous lecture."
   ]
  },
  {
   "cell_type": "code",
   "execution_count": 2,
   "metadata": {},
   "outputs": [],
   "source": [
    "# importing geopandas\n",
    "import geopandas as gpd"
   ]
  },
  {
   "cell_type": "markdown",
   "metadata": {},
   "source": [
    "Imported geopandas as gpd in order to shorten typing."
   ]
  },
  {
   "cell_type": "code",
   "execution_count": 5,
   "metadata": {},
   "outputs": [],
   "source": [
    "# assigning a name to data\n",
    "nbhoods = gpd.read_file('data/l.a. county neighborhood (current).shp')"
   ]
  },
  {
   "cell_type": "markdown",
   "metadata": {},
   "source": [
    "Assigned name nbhoods to the data LA County neighboorhoods (current)."
   ]
  },
  {
   "cell_type": "code",
   "execution_count": 12,
   "metadata": {},
   "outputs": [
    {
     "data": {
      "text/plain": [
       "geopandas.geodataframe.GeoDataFrame"
      ]
     },
     "execution_count": 12,
     "metadata": {},
     "output_type": "execute_result"
    }
   ],
   "source": [
    "# describes what's the type of data\n",
    "type(nbhoods)"
   ]
  },
  {
   "cell_type": "markdown",
   "metadata": {},
   "source": [
    "Described the type of data. "
   ]
  },
  {
   "cell_type": "code",
   "execution_count": 13,
   "metadata": {},
   "outputs": [
    {
     "data": {
      "text/html": [
       "<div>\n",
       "<style scoped>\n",
       "    .dataframe tbody tr th:only-of-type {\n",
       "        vertical-align: middle;\n",
       "    }\n",
       "\n",
       "    .dataframe tbody tr th {\n",
       "        vertical-align: top;\n",
       "    }\n",
       "\n",
       "    .dataframe thead th {\n",
       "        text-align: right;\n",
       "    }\n",
       "</style>\n",
       "<table border=\"1\" class=\"dataframe\">\n",
       "  <thead>\n",
       "    <tr style=\"text-align: right;\">\n",
       "      <th></th>\n",
       "      <th>slug</th>\n",
       "      <th>set</th>\n",
       "      <th>kind</th>\n",
       "      <th>external_i</th>\n",
       "      <th>name</th>\n",
       "      <th>display_na</th>\n",
       "      <th>sqmi</th>\n",
       "      <th>type</th>\n",
       "      <th>name_1</th>\n",
       "      <th>slug_1</th>\n",
       "      <th>geometry</th>\n",
       "    </tr>\n",
       "  </thead>\n",
       "  <tbody>\n",
       "    <tr>\n",
       "      <th>0</th>\n",
       "      <td>acton</td>\n",
       "      <td>L.A. County Neighborhoods (Current)</td>\n",
       "      <td>L.A. County Neighborhood (Current)</td>\n",
       "      <td>acton</td>\n",
       "      <td>Acton</td>\n",
       "      <td>Acton L.A. County Neighborhood (Current)</td>\n",
       "      <td>39.3391089485</td>\n",
       "      <td>unincorporated-area</td>\n",
       "      <td>None</td>\n",
       "      <td>None</td>\n",
       "      <td>POLYGON ((-118.20262 34.53899, -118.18947 34.5...</td>\n",
       "    </tr>\n",
       "    <tr>\n",
       "      <th>1</th>\n",
       "      <td>adams-normandie</td>\n",
       "      <td>L.A. County Neighborhoods (Current)</td>\n",
       "      <td>L.A. County Neighborhood (Current)</td>\n",
       "      <td>adams-normandie</td>\n",
       "      <td>Adams-Normandie</td>\n",
       "      <td>Adams-Normandie L.A. County Neighborhood (Curr...</td>\n",
       "      <td>0.805350187789</td>\n",
       "      <td>segment-of-a-city</td>\n",
       "      <td>None</td>\n",
       "      <td>None</td>\n",
       "      <td>POLYGON ((-118.30901 34.03741, -118.30041 34.0...</td>\n",
       "    </tr>\n",
       "    <tr>\n",
       "      <th>2</th>\n",
       "      <td>agoura-hills</td>\n",
       "      <td>L.A. County Neighborhoods (Current)</td>\n",
       "      <td>L.A. County Neighborhood (Current)</td>\n",
       "      <td>agoura-hills</td>\n",
       "      <td>Agoura Hills</td>\n",
       "      <td>Agoura Hills L.A. County Neighborhood (Current)</td>\n",
       "      <td>8.14676029818</td>\n",
       "      <td>standalone-city</td>\n",
       "      <td>None</td>\n",
       "      <td>None</td>\n",
       "      <td>POLYGON ((-118.76193 34.16820, -118.72632 34.1...</td>\n",
       "    </tr>\n",
       "    <tr>\n",
       "      <th>3</th>\n",
       "      <td>agua-dulce</td>\n",
       "      <td>L.A. County Neighborhoods (Current)</td>\n",
       "      <td>L.A. County Neighborhood (Current)</td>\n",
       "      <td>agua-dulce</td>\n",
       "      <td>Agua Dulce</td>\n",
       "      <td>Agua Dulce L.A. County Neighborhood (Current)</td>\n",
       "      <td>31.4626319451</td>\n",
       "      <td>unincorporated-area</td>\n",
       "      <td>None</td>\n",
       "      <td>None</td>\n",
       "      <td>POLYGON ((-118.25468 34.55830, -118.25551 34.5...</td>\n",
       "    </tr>\n",
       "    <tr>\n",
       "      <th>4</th>\n",
       "      <td>alhambra</td>\n",
       "      <td>L.A. County Neighborhoods (Current)</td>\n",
       "      <td>L.A. County Neighborhood (Current)</td>\n",
       "      <td>alhambra</td>\n",
       "      <td>Alhambra</td>\n",
       "      <td>Alhambra L.A. County Neighborhood (Current)</td>\n",
       "      <td>7.62381430605</td>\n",
       "      <td>standalone-city</td>\n",
       "      <td>None</td>\n",
       "      <td>None</td>\n",
       "      <td>POLYGON ((-118.12175 34.10504, -118.11687 34.1...</td>\n",
       "    </tr>\n",
       "  </tbody>\n",
       "</table>\n",
       "</div>"
      ],
      "text/plain": [
       "              slug                                  set  \\\n",
       "0            acton  L.A. County Neighborhoods (Current)   \n",
       "1  adams-normandie  L.A. County Neighborhoods (Current)   \n",
       "2     agoura-hills  L.A. County Neighborhoods (Current)   \n",
       "3       agua-dulce  L.A. County Neighborhoods (Current)   \n",
       "4         alhambra  L.A. County Neighborhoods (Current)   \n",
       "\n",
       "                                 kind       external_i             name  \\\n",
       "0  L.A. County Neighborhood (Current)            acton            Acton   \n",
       "1  L.A. County Neighborhood (Current)  adams-normandie  Adams-Normandie   \n",
       "2  L.A. County Neighborhood (Current)     agoura-hills     Agoura Hills   \n",
       "3  L.A. County Neighborhood (Current)       agua-dulce       Agua Dulce   \n",
       "4  L.A. County Neighborhood (Current)         alhambra         Alhambra   \n",
       "\n",
       "                                          display_na            sqmi  \\\n",
       "0           Acton L.A. County Neighborhood (Current)   39.3391089485   \n",
       "1  Adams-Normandie L.A. County Neighborhood (Curr...  0.805350187789   \n",
       "2    Agoura Hills L.A. County Neighborhood (Current)   8.14676029818   \n",
       "3      Agua Dulce L.A. County Neighborhood (Current)   31.4626319451   \n",
       "4        Alhambra L.A. County Neighborhood (Current)   7.62381430605   \n",
       "\n",
       "                  type name_1 slug_1  \\\n",
       "0  unincorporated-area   None   None   \n",
       "1    segment-of-a-city   None   None   \n",
       "2      standalone-city   None   None   \n",
       "3  unincorporated-area   None   None   \n",
       "4      standalone-city   None   None   \n",
       "\n",
       "                                            geometry  \n",
       "0  POLYGON ((-118.20262 34.53899, -118.18947 34.5...  \n",
       "1  POLYGON ((-118.30901 34.03741, -118.30041 34.0...  \n",
       "2  POLYGON ((-118.76193 34.16820, -118.72632 34.1...  \n",
       "3  POLYGON ((-118.25468 34.55830, -118.25551 34.5...  \n",
       "4  POLYGON ((-118.12175 34.10504, -118.11687 34.1...  "
      ]
     },
     "execution_count": 13,
     "metadata": {},
     "output_type": "execute_result"
    }
   ],
   "source": [
    "# shows what the data looks like\n",
    "nbhoods.head()"
   ]
  },
  {
   "cell_type": "markdown",
   "metadata": {},
   "source": [
    "Showed what the first few data points look like."
   ]
  },
  {
   "cell_type": "code",
   "execution_count": 14,
   "metadata": {},
   "outputs": [
    {
     "data": {
      "text/plain": [
       "(272, 11)"
      ]
     },
     "execution_count": 14,
     "metadata": {},
     "output_type": "execute_result"
    }
   ],
   "source": [
    "# describes how many rows and columns are in the dataset\n",
    "nbhoods.shape"
   ]
  },
  {
   "cell_type": "markdown",
   "metadata": {},
   "source": [
    "Described how many rows and columns are in the dataset. Informs me that there are 272 official LA County neighborhoods."
   ]
  },
  {
   "cell_type": "code",
   "execution_count": 16,
   "metadata": {},
   "outputs": [
    {
     "name": "stdout",
     "output_type": "stream",
     "text": [
      "<class 'geopandas.geodataframe.GeoDataFrame'>\n",
      "RangeIndex: 272 entries, 0 to 271\n",
      "Data columns (total 11 columns):\n",
      " #   Column      Non-Null Count  Dtype   \n",
      "---  ------      --------------  -----   \n",
      " 0   slug        272 non-null    object  \n",
      " 1   set         272 non-null    object  \n",
      " 2   kind        272 non-null    object  \n",
      " 3   external_i  272 non-null    object  \n",
      " 4   name        272 non-null    object  \n",
      " 5   display_na  272 non-null    object  \n",
      " 6   sqmi        272 non-null    object  \n",
      " 7   type        272 non-null    object  \n",
      " 8   name_1      0 non-null      object  \n",
      " 9   slug_1      0 non-null      object  \n",
      " 10  geometry    272 non-null    geometry\n",
      "dtypes: geometry(1), object(10)\n",
      "memory usage: 23.5+ KB\n"
     ]
    }
   ],
   "source": [
    "# shows the dataframe info\n",
    "nbhoods.info()"
   ]
  },
  {
   "cell_type": "markdown",
   "metadata": {},
   "source": [
    "Shows the dataframe information."
   ]
  },
  {
   "cell_type": "code",
   "execution_count": 18,
   "metadata": {},
   "outputs": [
    {
     "data": {
      "text/plain": [
       "<matplotlib.axes._subplots.AxesSubplot at 0x7f910588e460>"
      ]
     },
     "execution_count": 18,
     "metadata": {},
     "output_type": "execute_result"
    },
    {
     "data": {
      "image/png": "[encoded data removed]",
      "text/plain": [
       "<Figure size 432x288 with 1 Axes>"
      ]
     },
     "metadata": {
      "needs_background": "light"
     },
     "output_type": "display_data"
    }
   ],
   "source": [
    "# plot the map of LA county neighborhoods\n",
    "nbhoods.plot()"
   ]
  },
  {
   "cell_type": "markdown",
   "metadata": {},
   "source": [
    "Plots the shapefile map of the neighborhoods."
   ]
  },
  {
   "cell_type": "code",
   "execution_count": 35,
   "metadata": {},
   "outputs": [
    {
     "data": {
      "text/plain": [
       "segment-of-a-city      114\n",
       "standalone-city         87\n",
       "unincorporated-area     71\n",
       "Name: type, dtype: int64"
      ]
     },
     "execution_count": 35,
     "metadata": {},
     "output_type": "execute_result"
    }
   ],
   "source": [
    "# identify how many of each type of neighborhoods there are\n",
    "type_count = nbhoods['type'].value_counts()\n",
    "type_count"
   ]
  },
  {
   "cell_type": "markdown",
   "metadata": {},
   "source": [
    "Counts how many of each type of neighborhood there is."
   ]
  },
  {
   "cell_type": "code",
   "execution_count": 30,
   "metadata": {},
   "outputs": [
    {
     "data": {
      "text/html": [
       "<div>\n",
       "<style scoped>\n",
       "    .dataframe tbody tr th:only-of-type {\n",
       "        vertical-align: middle;\n",
       "    }\n",
       "\n",
       "    .dataframe tbody tr th {\n",
       "        vertical-align: top;\n",
       "    }\n",
       "\n",
       "    .dataframe thead th {\n",
       "        text-align: right;\n",
       "    }\n",
       "</style>\n",
       "<table border=\"1\" class=\"dataframe\">\n",
       "  <thead>\n",
       "    <tr style=\"text-align: right;\">\n",
       "      <th></th>\n",
       "      <th>display_na</th>\n",
       "      <th>sqmi</th>\n",
       "      <th>type</th>\n",
       "    </tr>\n",
       "  </thead>\n",
       "  <tbody>\n",
       "    <tr>\n",
       "      <th>0</th>\n",
       "      <td>Acton L.A. County Neighborhood (Current)</td>\n",
       "      <td>39.3391089485</td>\n",
       "      <td>unincorporated-area</td>\n",
       "    </tr>\n",
       "    <tr>\n",
       "      <th>1</th>\n",
       "      <td>Adams-Normandie L.A. County Neighborhood (Curr...</td>\n",
       "      <td>0.805350187789</td>\n",
       "      <td>segment-of-a-city</td>\n",
       "    </tr>\n",
       "    <tr>\n",
       "      <th>2</th>\n",
       "      <td>Agoura Hills L.A. County Neighborhood (Current)</td>\n",
       "      <td>8.14676029818</td>\n",
       "      <td>standalone-city</td>\n",
       "    </tr>\n",
       "    <tr>\n",
       "      <th>3</th>\n",
       "      <td>Agua Dulce L.A. County Neighborhood (Current)</td>\n",
       "      <td>31.4626319451</td>\n",
       "      <td>unincorporated-area</td>\n",
       "    </tr>\n",
       "    <tr>\n",
       "      <th>4</th>\n",
       "      <td>Alhambra L.A. County Neighborhood (Current)</td>\n",
       "      <td>7.62381430605</td>\n",
       "      <td>standalone-city</td>\n",
       "    </tr>\n",
       "    <tr>\n",
       "      <th>...</th>\n",
       "      <td>...</td>\n",
       "      <td>...</td>\n",
       "      <td>...</td>\n",
       "    </tr>\n",
       "    <tr>\n",
       "      <th>267</th>\n",
       "      <td>Willowbrook L.A. County Neighborhood (Current)</td>\n",
       "      <td>3.76636072646</td>\n",
       "      <td>unincorporated-area</td>\n",
       "    </tr>\n",
       "    <tr>\n",
       "      <th>268</th>\n",
       "      <td>Wilmington L.A. County Neighborhood (Current)</td>\n",
       "      <td>9.1412927044</td>\n",
       "      <td>segment-of-a-city</td>\n",
       "    </tr>\n",
       "    <tr>\n",
       "      <th>269</th>\n",
       "      <td>Windsor Square L.A. County Neighborhood (Current)</td>\n",
       "      <td>0.683463802484</td>\n",
       "      <td>segment-of-a-city</td>\n",
       "    </tr>\n",
       "    <tr>\n",
       "      <th>270</th>\n",
       "      <td>Winnetka L.A. County Neighborhood (Current)</td>\n",
       "      <td>4.77724070209</td>\n",
       "      <td>segment-of-a-city</td>\n",
       "    </tr>\n",
       "    <tr>\n",
       "      <th>271</th>\n",
       "      <td>Woodland Hills L.A. County Neighborhood (Current)</td>\n",
       "      <td>14.768309648</td>\n",
       "      <td>segment-of-a-city</td>\n",
       "    </tr>\n",
       "  </tbody>\n",
       "</table>\n",
       "<p>272 rows × 3 columns</p>\n",
       "</div>"
      ],
      "text/plain": [
       "                                            display_na            sqmi  \\\n",
       "0             Acton L.A. County Neighborhood (Current)   39.3391089485   \n",
       "1    Adams-Normandie L.A. County Neighborhood (Curr...  0.805350187789   \n",
       "2      Agoura Hills L.A. County Neighborhood (Current)   8.14676029818   \n",
       "3        Agua Dulce L.A. County Neighborhood (Current)   31.4626319451   \n",
       "4          Alhambra L.A. County Neighborhood (Current)   7.62381430605   \n",
       "..                                                 ...             ...   \n",
       "267     Willowbrook L.A. County Neighborhood (Current)   3.76636072646   \n",
       "268      Wilmington L.A. County Neighborhood (Current)    9.1412927044   \n",
       "269  Windsor Square L.A. County Neighborhood (Current)  0.683463802484   \n",
       "270        Winnetka L.A. County Neighborhood (Current)   4.77724070209   \n",
       "271  Woodland Hills L.A. County Neighborhood (Current)    14.768309648   \n",
       "\n",
       "                    type  \n",
       "0    unincorporated-area  \n",
       "1      segment-of-a-city  \n",
       "2        standalone-city  \n",
       "3    unincorporated-area  \n",
       "4        standalone-city  \n",
       "..                   ...  \n",
       "267  unincorporated-area  \n",
       "268    segment-of-a-city  \n",
       "269    segment-of-a-city  \n",
       "270    segment-of-a-city  \n",
       "271    segment-of-a-city  \n",
       "\n",
       "[272 rows x 3 columns]"
      ]
     },
     "execution_count": 30,
     "metadata": {},
     "output_type": "execute_result"
    }
   ],
   "source": [
    "# list of desired columns\n",
    "desired_columns = ['display_na','sqmi','type']\n",
    "\n",
    "# subset\n",
    "nbhoods[desired_columns]"
   ]
  },
  {
   "cell_type": "markdown",
   "metadata": {},
   "source": [
    "Sorts information into primary information I'm interested in. Hopefully, this counts as filtering."
   ]
  },
  {
   "cell_type": "code",
   "execution_count": 37,
   "metadata": {},
   "outputs": [
    {
     "data": {
      "text/plain": [
       "<matplotlib.axes._subplots.AxesSubplot at 0x7f91038354f0>"
      ]
     },
     "execution_count": 37,
     "metadata": {},
     "output_type": "execute_result"
    },
    {
     "data": {
      "image/png": "[encoded data removed]",
      "text/plain": [
       "<Figure size 432x288 with 1 Axes>"
      ]
     },
     "metadata": {
      "needs_background": "light"
     },
     "output_type": "display_data"
    }
   ],
   "source": [
    "type_count.plot.bar()"
   ]
  },
  {
   "cell_type": "markdown",
   "metadata": {},
   "source": [
    "Establishes how many of each type of neighborhood there is into a bar chart."
   ]
  }
 ],
 "metadata": {
  "kernelspec": {
   "display_name": "Python 3",
   "language": "python",
   "name": "python3"
  },
  "language_info": {
   "codemirror_mode": {
    "name": "ipython",
    "version": 3
   },
   "file_extension": ".py",
   "mimetype": "text/x-python",
   "name": "python",
   "nbconvert_exporter": "python",
   "pygments_lexer": "ipython3",
   "version": "3.8.5"
  },
  "toc": {
   "base_numbering": 1,
   "nav_menu": {},
   "number_sections": true,
   "sideBar": true,
   "skip_h1_title": false,
   "title_cell": "Table of Contents",
   "title_sidebar": "Contents",
   "toc_cell": false,
   "toc_position": {},
   "toc_section_display": true,
   "toc_window_display": false
  }
 },
 "nbformat": 4,
 "nbformat_minor": 4
}
